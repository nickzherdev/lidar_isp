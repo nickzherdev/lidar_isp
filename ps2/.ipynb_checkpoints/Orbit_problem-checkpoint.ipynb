{
 "cells": [
  {
   "cell_type": "code",
   "execution_count": null,
   "metadata": {},
   "outputs": [],
   "source": [
    "token = 4a775b4a-7f2c-40d5-989b-652c443fcfb0"
   ]
  },
  {
   "cell_type": "code",
   "execution_count": null,
   "metadata": {},
   "outputs": [],
   "source": [
    "GET https://impossible-swallow.glitch.me/name?token={your secret token}\n",
    "\n",
    "returns the current name of your bot\n",
    "\n",
    "PUT https://impossible-swallow.glitch.me/name {\n",
    "  \"token\": \"{your secret token}\",\n",
    "  \"name\": \"{the new name you want for your bot}\"\n",
    "}\n",
    "changes the name of your bot\n",
    "\n",
    "POST https://impossible-swallow.glitch.me/post {\n",
    "  \"token\": \"{your secret token}\",\n",
    "  \"text\": \"{the message you want to post to the channel}\",\n",
    "  \"image\": {image url (optional)}\n",
    "}"
   ]
  },
  {
   "cell_type": "code",
   "execution_count": null,
   "metadata": {},
   "outputs": [],
   "source": [
    "\n",
    "\n",
    "TERRA                   \n",
    "1 25994U 99068A   19028.62546474 -.00000108  00000-0 -13964-4 0  9997\n",
    "2 25994  98.2076 105.2157 0001501  97.6265 262.5098 14.57116656 16658"
   ]
  },
  {
   "cell_type": "code",
   "execution_count": 1,
   "metadata": {},
   "outputs": [],
   "source": [
    "import numpy as np "
   ]
  },
  {
   "cell_type": "markdown",
   "metadata": {},
   "source": [
    "# 1.1) Estimate maximum spatial error in position on Earth surface  if UTC is used instead of UT1"
   ]
  },
  {
   "cell_type": "code",
   "execution_count": 3,
   "metadata": {},
   "outputs": [
    {
     "name": "stdout",
     "output_type": "stream",
     "text": [
      "error in km 0.4654211342374915\n"
     ]
    }
   ],
   "source": [
    "# 15 degree / 60 min\n",
    "# 1 deg / 4 min\n",
    "# 0.25 deg / 1 min\n",
    "# 0.00416666667 / 1 sec\n",
    "angle = 0.00416666667\n",
    "h = 35800\n",
    "R = 6400\n",
    "error = np.pi * R * angle / 180\n",
    "print(\"error in km\", error)"
   ]
  },
  {
   "cell_type": "markdown",
   "metadata": {},
   "source": [
    "# 1.2) Calculate period of a satellite X1 on near circular orbit with altitude 500км\n"
   ]
  },
  {
   "cell_type": "code",
   "execution_count": 4,
   "metadata": {},
   "outputs": [],
   "source": [
    "from pyorbital.orbital import Orbital\n",
    "from datetime import datetime"
   ]
  },
  {
   "cell_type": "code",
   "execution_count": 6,
   "metadata": {},
   "outputs": [
    {
     "data": {
      "text/plain": [
       "(array([ 0.87844223, -0.58743717,  0.39902788]),\n",
       " array([-0.02665529,  0.004181  ,  0.06458198]))"
      ]
     },
     "execution_count": 6,
     "metadata": {},
     "output_type": "execute_result"
    }
   ],
   "source": [
    "orb = Orbital(\"Suomi NPP\")\n",
    "now = datetime.utcnow()\n",
    "orb.get_position(now)"
   ]
  },
  {
   "cell_type": "code",
   "execution_count": 7,
   "metadata": {},
   "outputs": [
    {
     "data": {
      "text/plain": [
       "(63.68467519758287, 20.799065255793924, 829.2011549646879)"
      ]
     },
     "execution_count": 7,
     "metadata": {},
     "output_type": "execute_result"
    }
   ],
   "source": [
    "orb.get_lonlatalt(now)"
   ]
  }
 ],
 "metadata": {
  "kernelspec": {
   "display_name": "Python 3",
   "language": "python",
   "name": "python3"
  },
  "language_info": {
   "codemirror_mode": {
    "name": "ipython",
    "version": 3
   },
   "file_extension": ".py",
   "mimetype": "text/x-python",
   "name": "python",
   "nbconvert_exporter": "python",
   "pygments_lexer": "ipython3",
   "version": "3.6.1"
  }
 },
 "nbformat": 4,
 "nbformat_minor": 2
}
